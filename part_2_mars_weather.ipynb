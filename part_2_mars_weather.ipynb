{
 "cells": [
  {
   "cell_type": "markdown",
   "id": "845ba996",
   "metadata": {},
   "source": [
    "# [Deliverable #2] Scrape and Analyse Mars Weather Data\n",
    "---\n",
    "## Step #0 - Import Dependencies and Setup\n",
    "---"
   ]
  },
  {
   "cell_type": "code",
   "execution_count": 1,
   "id": "f9f2bf25",
   "metadata": {},
   "outputs": [],
   "source": [
    "# Import Splinter and BeautifulSoup Libraries (For Automated Web Browsing and Scraping)\n",
    "# Import Pandas and Matplotlib Libraries (For Data Structuring & Visualisation)\n",
    "from splinter import Browser\n",
    "from bs4 import BeautifulSoup\n",
    "import matplotlib.pyplot as plt\n",
    "import pandas as pd"
   ]
  },
  {
   "cell_type": "code",
   "execution_count": 2,
   "id": "a4c44698",
   "metadata": {},
   "outputs": [],
   "source": [
    "# Set up Splinter (Google Chrome Browser)\n",
    "browser = Browser('chrome')"
   ]
  },
  {
   "cell_type": "markdown",
   "id": "7d4628c4",
   "metadata": {},
   "source": [
    "## Step #1 - Visit Website (Splinter Automated Browsing)\n",
    "---"
   ]
  },
  {
   "cell_type": "code",
   "execution_count": 3,
   "id": "cb2872ce",
   "metadata": {},
   "outputs": [],
   "source": [
    "# Visit the Mars Weather Data Site\n",
    "url = 'https://static.bc-edx.com/data/web/mars_facts/temperature.html'\n",
    "\n",
    "browser.visit(url)"
   ]
  },
  {
   "cell_type": "code",
   "execution_count": 4,
   "id": "25fe5e54",
   "metadata": {},
   "outputs": [],
   "source": [
    "# Parse the website\n",
    "html = browser.html\n",
    "soup = BeautifulSoup(html, 'html.parser')"
   ]
  },
  {
   "cell_type": "markdown",
   "id": "e093dbe8",
   "metadata": {},
   "source": [
    "## Step #2 - Scrape Website Using BeautifulSoup (Extract Table)\n",
    "---"
   ]
  },
  {
   "cell_type": "code",
   "execution_count": 5,
   "id": "b281174c",
   "metadata": {},
   "outputs": [],
   "source": [
    "# From inspecting the website, the table is found in a table tag w/ class as 'table'\n",
    "table = soup.find('table', class_ = 'table')"
   ]
  },
  {
   "cell_type": "markdown",
   "id": "f0e95366",
   "metadata": {},
   "source": [
    "## Step #3 - Assemble Scraped Table Data to Pandas DataFrame (`weather_df`)\n",
    "---"
   ]
  },
  {
   "cell_type": "code",
   "execution_count": 6,
   "id": "aa1982a7",
   "metadata": {},
   "outputs": [
    {
     "data": {
      "text/plain": [
       "['id', 'terrestrial_date', 'sol', 'ls', 'month', 'min_temp', 'pressure']"
      ]
     },
     "execution_count": 6,
     "metadata": {},
     "output_type": "execute_result"
    }
   ],
   "source": [
    "# Get the first 'tr' row which contains the column headers of the table\n",
    "row_header = table.find('tr')\n",
    "\n",
    "# For every header (in 'th' tag) in the row header, extract the header as text and store in a new list\n",
    "column_headers = [header.text.strip() for header in row_header.find_all('th')]\n",
    "\n",
    "# Log the list of column headers\n",
    "column_headers"
   ]
  },
  {
   "cell_type": "code",
   "execution_count": 7,
   "id": "1fa5173d",
   "metadata": {},
   "outputs": [
    {
     "data": {
      "text/html": [
       "<div>\n",
       "<style scoped>\n",
       "    .dataframe tbody tr th:only-of-type {\n",
       "        vertical-align: middle;\n",
       "    }\n",
       "\n",
       "    .dataframe tbody tr th {\n",
       "        vertical-align: top;\n",
       "    }\n",
       "\n",
       "    .dataframe thead th {\n",
       "        text-align: right;\n",
       "    }\n",
       "</style>\n",
       "<table border=\"1\" class=\"dataframe\">\n",
       "  <thead>\n",
       "    <tr style=\"text-align: right;\">\n",
       "      <th></th>\n",
       "      <th>id</th>\n",
       "      <th>terrestrial_date</th>\n",
       "      <th>sol</th>\n",
       "      <th>ls</th>\n",
       "      <th>month</th>\n",
       "      <th>min_temp</th>\n",
       "      <th>pressure</th>\n",
       "    </tr>\n",
       "  </thead>\n",
       "  <tbody>\n",
       "    <tr>\n",
       "      <th>0</th>\n",
       "      <td>2</td>\n",
       "      <td>2012-08-16</td>\n",
       "      <td>10</td>\n",
       "      <td>155</td>\n",
       "      <td>6</td>\n",
       "      <td>-75.0</td>\n",
       "      <td>739.0</td>\n",
       "    </tr>\n",
       "    <tr>\n",
       "      <th>1</th>\n",
       "      <td>13</td>\n",
       "      <td>2012-08-17</td>\n",
       "      <td>11</td>\n",
       "      <td>156</td>\n",
       "      <td>6</td>\n",
       "      <td>-76.0</td>\n",
       "      <td>740.0</td>\n",
       "    </tr>\n",
       "    <tr>\n",
       "      <th>2</th>\n",
       "      <td>24</td>\n",
       "      <td>2012-08-18</td>\n",
       "      <td>12</td>\n",
       "      <td>156</td>\n",
       "      <td>6</td>\n",
       "      <td>-76.0</td>\n",
       "      <td>741.0</td>\n",
       "    </tr>\n",
       "    <tr>\n",
       "      <th>3</th>\n",
       "      <td>35</td>\n",
       "      <td>2012-08-19</td>\n",
       "      <td>13</td>\n",
       "      <td>157</td>\n",
       "      <td>6</td>\n",
       "      <td>-74.0</td>\n",
       "      <td>732.0</td>\n",
       "    </tr>\n",
       "    <tr>\n",
       "      <th>4</th>\n",
       "      <td>46</td>\n",
       "      <td>2012-08-20</td>\n",
       "      <td>14</td>\n",
       "      <td>157</td>\n",
       "      <td>6</td>\n",
       "      <td>-74.0</td>\n",
       "      <td>740.0</td>\n",
       "    </tr>\n",
       "    <tr>\n",
       "      <th>...</th>\n",
       "      <td>...</td>\n",
       "      <td>...</td>\n",
       "      <td>...</td>\n",
       "      <td>...</td>\n",
       "      <td>...</td>\n",
       "      <td>...</td>\n",
       "      <td>...</td>\n",
       "    </tr>\n",
       "    <tr>\n",
       "      <th>1862</th>\n",
       "      <td>1889</td>\n",
       "      <td>2018-02-23</td>\n",
       "      <td>1973</td>\n",
       "      <td>133</td>\n",
       "      <td>5</td>\n",
       "      <td>-78.0</td>\n",
       "      <td>730.0</td>\n",
       "    </tr>\n",
       "    <tr>\n",
       "      <th>1863</th>\n",
       "      <td>1892</td>\n",
       "      <td>2018-02-24</td>\n",
       "      <td>1974</td>\n",
       "      <td>134</td>\n",
       "      <td>5</td>\n",
       "      <td>-77.0</td>\n",
       "      <td>729.0</td>\n",
       "    </tr>\n",
       "    <tr>\n",
       "      <th>1864</th>\n",
       "      <td>1894</td>\n",
       "      <td>2018-02-25</td>\n",
       "      <td>1975</td>\n",
       "      <td>134</td>\n",
       "      <td>5</td>\n",
       "      <td>-76.0</td>\n",
       "      <td>729.0</td>\n",
       "    </tr>\n",
       "    <tr>\n",
       "      <th>1865</th>\n",
       "      <td>1893</td>\n",
       "      <td>2018-02-26</td>\n",
       "      <td>1976</td>\n",
       "      <td>135</td>\n",
       "      <td>5</td>\n",
       "      <td>-77.0</td>\n",
       "      <td>728.0</td>\n",
       "    </tr>\n",
       "    <tr>\n",
       "      <th>1866</th>\n",
       "      <td>1895</td>\n",
       "      <td>2018-02-27</td>\n",
       "      <td>1977</td>\n",
       "      <td>135</td>\n",
       "      <td>5</td>\n",
       "      <td>-77.0</td>\n",
       "      <td>727.0</td>\n",
       "    </tr>\n",
       "  </tbody>\n",
       "</table>\n",
       "<p>1867 rows × 7 columns</p>\n",
       "</div>"
      ],
      "text/plain": [
       "        id terrestrial_date   sol   ls month min_temp pressure\n",
       "0        2       2012-08-16    10  155     6    -75.0    739.0\n",
       "1       13       2012-08-17    11  156     6    -76.0    740.0\n",
       "2       24       2012-08-18    12  156     6    -76.0    741.0\n",
       "3       35       2012-08-19    13  157     6    -74.0    732.0\n",
       "4       46       2012-08-20    14  157     6    -74.0    740.0\n",
       "...    ...              ...   ...  ...   ...      ...      ...\n",
       "1862  1889       2018-02-23  1973  133     5    -78.0    730.0\n",
       "1863  1892       2018-02-24  1974  134     5    -77.0    729.0\n",
       "1864  1894       2018-02-25  1975  134     5    -76.0    729.0\n",
       "1865  1893       2018-02-26  1976  135     5    -77.0    728.0\n",
       "1866  1895       2018-02-27  1977  135     5    -77.0    727.0\n",
       "\n",
       "[1867 rows x 7 columns]"
      ]
     },
     "execution_count": 7,
     "metadata": {},
     "output_type": "execute_result"
    }
   ],
   "source": [
    "# Define new list to store dictionaries of scraped data from the table\n",
    "weather_data_list = []\n",
    "\n",
    "# Scrape all data rows from the table; first row skipped (header row)\n",
    "weather_data_rows = table.find_all('tr')[1:]\n",
    "\n",
    "# For every data row in the table...\n",
    "# Store the data values from each column of the row as text in a list\n",
    "# Zip the column headers and data values together and store as dictionary\n",
    "# Append the main list with the new dictionary\n",
    "for row in weather_data_rows:\n",
    "    data_row = [td.text.strip() for td in row.find_all('td')]\n",
    "    temp_dict = dict(zip(column_headers, data_row))\n",
    "    weather_data_list.append(temp_dict)\n",
    "\n",
    "# Pass the final list of Mars Weather Data to a new Pandas DataFrame\n",
    "weather_df = pd.DataFrame(weather_data_list)\n",
    "\n",
    "# Display the Mars Weather DataFrame\n",
    "weather_df"
   ]
  },
  {
   "cell_type": "markdown",
   "id": "f0a45880",
   "metadata": {},
   "source": [
    "## Step #4 - Examine Data Types in Mars Weather DataFrame (`weather_df`) & Convert\n",
    "---"
   ]
  },
  {
   "cell_type": "code",
   "execution_count": 8,
   "id": "bf057cfb",
   "metadata": {},
   "outputs": [
    {
     "name": "stdout",
     "output_type": "stream",
     "text": [
      "id                  object\n",
      "terrestrial_date    object\n",
      "sol                 object\n",
      "ls                  object\n",
      "month               object\n",
      "min_temp            object\n",
      "pressure            object\n",
      "dtype: object\n"
     ]
    }
   ],
   "source": [
    "# Log the list of data types in the DataFrame (Before Conversion)\n",
    "print(weather_df.dtypes)"
   ]
  },
  {
   "cell_type": "code",
   "execution_count": 9,
   "id": "35c2e084",
   "metadata": {},
   "outputs": [
    {
     "name": "stdout",
     "output_type": "stream",
     "text": [
      "id                          object\n",
      "terrestrial_date    datetime64[ns]\n",
      "sol                          int64\n",
      "ls                           int64\n",
      "month                        int64\n",
      "min_temp                   float64\n",
      "pressure                   float64\n",
      "dtype: object\n",
      "\n"
     ]
    },
    {
     "data": {
      "text/html": [
       "<div>\n",
       "<style scoped>\n",
       "    .dataframe tbody tr th:only-of-type {\n",
       "        vertical-align: middle;\n",
       "    }\n",
       "\n",
       "    .dataframe tbody tr th {\n",
       "        vertical-align: top;\n",
       "    }\n",
       "\n",
       "    .dataframe thead th {\n",
       "        text-align: right;\n",
       "    }\n",
       "</style>\n",
       "<table border=\"1\" class=\"dataframe\">\n",
       "  <thead>\n",
       "    <tr style=\"text-align: right;\">\n",
       "      <th></th>\n",
       "      <th>id</th>\n",
       "      <th>terrestrial_date</th>\n",
       "      <th>sol</th>\n",
       "      <th>ls</th>\n",
       "      <th>month</th>\n",
       "      <th>min_temp</th>\n",
       "      <th>pressure</th>\n",
       "    </tr>\n",
       "  </thead>\n",
       "  <tbody>\n",
       "    <tr>\n",
       "      <th>0</th>\n",
       "      <td>2</td>\n",
       "      <td>2012-08-16</td>\n",
       "      <td>10</td>\n",
       "      <td>155</td>\n",
       "      <td>6</td>\n",
       "      <td>-75.0</td>\n",
       "      <td>739.0</td>\n",
       "    </tr>\n",
       "    <tr>\n",
       "      <th>1</th>\n",
       "      <td>13</td>\n",
       "      <td>2012-08-17</td>\n",
       "      <td>11</td>\n",
       "      <td>156</td>\n",
       "      <td>6</td>\n",
       "      <td>-76.0</td>\n",
       "      <td>740.0</td>\n",
       "    </tr>\n",
       "    <tr>\n",
       "      <th>2</th>\n",
       "      <td>24</td>\n",
       "      <td>2012-08-18</td>\n",
       "      <td>12</td>\n",
       "      <td>156</td>\n",
       "      <td>6</td>\n",
       "      <td>-76.0</td>\n",
       "      <td>741.0</td>\n",
       "    </tr>\n",
       "    <tr>\n",
       "      <th>3</th>\n",
       "      <td>35</td>\n",
       "      <td>2012-08-19</td>\n",
       "      <td>13</td>\n",
       "      <td>157</td>\n",
       "      <td>6</td>\n",
       "      <td>-74.0</td>\n",
       "      <td>732.0</td>\n",
       "    </tr>\n",
       "    <tr>\n",
       "      <th>4</th>\n",
       "      <td>46</td>\n",
       "      <td>2012-08-20</td>\n",
       "      <td>14</td>\n",
       "      <td>157</td>\n",
       "      <td>6</td>\n",
       "      <td>-74.0</td>\n",
       "      <td>740.0</td>\n",
       "    </tr>\n",
       "    <tr>\n",
       "      <th>...</th>\n",
       "      <td>...</td>\n",
       "      <td>...</td>\n",
       "      <td>...</td>\n",
       "      <td>...</td>\n",
       "      <td>...</td>\n",
       "      <td>...</td>\n",
       "      <td>...</td>\n",
       "    </tr>\n",
       "    <tr>\n",
       "      <th>1862</th>\n",
       "      <td>1889</td>\n",
       "      <td>2018-02-23</td>\n",
       "      <td>1973</td>\n",
       "      <td>133</td>\n",
       "      <td>5</td>\n",
       "      <td>-78.0</td>\n",
       "      <td>730.0</td>\n",
       "    </tr>\n",
       "    <tr>\n",
       "      <th>1863</th>\n",
       "      <td>1892</td>\n",
       "      <td>2018-02-24</td>\n",
       "      <td>1974</td>\n",
       "      <td>134</td>\n",
       "      <td>5</td>\n",
       "      <td>-77.0</td>\n",
       "      <td>729.0</td>\n",
       "    </tr>\n",
       "    <tr>\n",
       "      <th>1864</th>\n",
       "      <td>1894</td>\n",
       "      <td>2018-02-25</td>\n",
       "      <td>1975</td>\n",
       "      <td>134</td>\n",
       "      <td>5</td>\n",
       "      <td>-76.0</td>\n",
       "      <td>729.0</td>\n",
       "    </tr>\n",
       "    <tr>\n",
       "      <th>1865</th>\n",
       "      <td>1893</td>\n",
       "      <td>2018-02-26</td>\n",
       "      <td>1976</td>\n",
       "      <td>135</td>\n",
       "      <td>5</td>\n",
       "      <td>-77.0</td>\n",
       "      <td>728.0</td>\n",
       "    </tr>\n",
       "    <tr>\n",
       "      <th>1866</th>\n",
       "      <td>1895</td>\n",
       "      <td>2018-02-27</td>\n",
       "      <td>1977</td>\n",
       "      <td>135</td>\n",
       "      <td>5</td>\n",
       "      <td>-77.0</td>\n",
       "      <td>727.0</td>\n",
       "    </tr>\n",
       "  </tbody>\n",
       "</table>\n",
       "<p>1867 rows × 7 columns</p>\n",
       "</div>"
      ],
      "text/plain": [
       "        id terrestrial_date   sol   ls  month  min_temp  pressure\n",
       "0        2       2012-08-16    10  155      6     -75.0     739.0\n",
       "1       13       2012-08-17    11  156      6     -76.0     740.0\n",
       "2       24       2012-08-18    12  156      6     -76.0     741.0\n",
       "3       35       2012-08-19    13  157      6     -74.0     732.0\n",
       "4       46       2012-08-20    14  157      6     -74.0     740.0\n",
       "...    ...              ...   ...  ...    ...       ...       ...\n",
       "1862  1889       2018-02-23  1973  133      5     -78.0     730.0\n",
       "1863  1892       2018-02-24  1974  134      5     -77.0     729.0\n",
       "1864  1894       2018-02-25  1975  134      5     -76.0     729.0\n",
       "1865  1893       2018-02-26  1976  135      5     -77.0     728.0\n",
       "1866  1895       2018-02-27  1977  135      5     -77.0     727.0\n",
       "\n",
       "[1867 rows x 7 columns]"
      ]
     },
     "execution_count": 9,
     "metadata": {},
     "output_type": "execute_result"
    }
   ],
   "source": [
    "# Convert date column to 'datetime' data type\n",
    "weather_df[\"terrestrial_date\"] = pd.to_datetime(weather_df[\"terrestrial_date\"])\n",
    "\n",
    "# Batch convert terrestrial days, longitude and month columns to Integer\n",
    "weather_df = weather_df.astype({\"sol\":\"int64\", \"ls\":\"int64\", \"month\":\"int64\"})\n",
    "\n",
    "# Batch convert min temperature and pressure columns to Float\n",
    "weather_df = weather_df.astype({\"min_temp\":\"float64\", \"pressure\":\"float64\"})\n",
    "\n",
    "# Log the list of data types in the DataFrame (After Conversion)\n",
    "print(weather_df.dtypes)\n",
    "print()\n",
    "\n",
    "# Display the Mars Weather DataFrame (After Conversion)\n",
    "weather_df"
   ]
  },
  {
   "cell_type": "markdown",
   "id": "a4542c3c",
   "metadata": {},
   "source": [
    "## Step #5 - Analyse Weather Dataset (`weather_df`) Using Pandas & Matplotlib\n",
    "---"
   ]
  },
  {
   "cell_type": "markdown",
   "id": "6e621318",
   "metadata": {},
   "source": [
    "### Q1: How Many Months Exist on Mars?"
   ]
  },
  {
   "cell_type": "code",
   "execution_count": 10,
   "id": "79b1663d",
   "metadata": {},
   "outputs": [
    {
     "data": {
      "text/html": [
       "<div>\n",
       "<style scoped>\n",
       "    .dataframe tbody tr th:only-of-type {\n",
       "        vertical-align: middle;\n",
       "    }\n",
       "\n",
       "    .dataframe tbody tr th {\n",
       "        vertical-align: top;\n",
       "    }\n",
       "\n",
       "    .dataframe thead th {\n",
       "        text-align: right;\n",
       "    }\n",
       "</style>\n",
       "<table border=\"1\" class=\"dataframe\">\n",
       "  <thead>\n",
       "    <tr style=\"text-align: right;\">\n",
       "      <th></th>\n",
       "      <th>Count</th>\n",
       "    </tr>\n",
       "    <tr>\n",
       "      <th>month</th>\n",
       "      <th></th>\n",
       "    </tr>\n",
       "  </thead>\n",
       "  <tbody>\n",
       "    <tr>\n",
       "      <th>1</th>\n",
       "      <td>174</td>\n",
       "    </tr>\n",
       "    <tr>\n",
       "      <th>2</th>\n",
       "      <td>178</td>\n",
       "    </tr>\n",
       "    <tr>\n",
       "      <th>3</th>\n",
       "      <td>192</td>\n",
       "    </tr>\n",
       "    <tr>\n",
       "      <th>4</th>\n",
       "      <td>194</td>\n",
       "    </tr>\n",
       "    <tr>\n",
       "      <th>5</th>\n",
       "      <td>149</td>\n",
       "    </tr>\n",
       "    <tr>\n",
       "      <th>6</th>\n",
       "      <td>147</td>\n",
       "    </tr>\n",
       "    <tr>\n",
       "      <th>7</th>\n",
       "      <td>142</td>\n",
       "    </tr>\n",
       "    <tr>\n",
       "      <th>8</th>\n",
       "      <td>141</td>\n",
       "    </tr>\n",
       "    <tr>\n",
       "      <th>9</th>\n",
       "      <td>134</td>\n",
       "    </tr>\n",
       "    <tr>\n",
       "      <th>10</th>\n",
       "      <td>112</td>\n",
       "    </tr>\n",
       "    <tr>\n",
       "      <th>11</th>\n",
       "      <td>138</td>\n",
       "    </tr>\n",
       "    <tr>\n",
       "      <th>12</th>\n",
       "      <td>166</td>\n",
       "    </tr>\n",
       "  </tbody>\n",
       "</table>\n",
       "</div>"
      ],
      "text/plain": [
       "       Count\n",
       "month       \n",
       "1        174\n",
       "2        178\n",
       "3        192\n",
       "4        194\n",
       "5        149\n",
       "6        147\n",
       "7        142\n",
       "8        141\n",
       "9        134\n",
       "10       112\n",
       "11       138\n",
       "12       166"
      ]
     },
     "execution_count": 10,
     "metadata": {},
     "output_type": "execute_result"
    }
   ],
   "source": [
    "# Return Pandas Series of count for each unique value from the 'Month' column\n",
    "month_mars = weather_df[\"month\"].value_counts()\n",
    "\n",
    "# Pass through Pandas Series where the index is the Month Number (Sorted)\n",
    "month_df = pd.DataFrame({\"Count\": month_mars.values}, index = month_mars.index)\n",
    "month_df = month_df.sort_index()\n",
    "\n",
    "\n",
    "# Display DataFrame of Unique Month Count\n",
    "month_df"
   ]
  },
  {
   "cell_type": "markdown",
   "id": "b2331d91",
   "metadata": {},
   "source": [
    "### Q2: How Many Martian Days in the Scraped Dataset Exist?"
   ]
  },
  {
   "cell_type": "code",
   "execution_count": 11,
   "id": "342021e0",
   "metadata": {},
   "outputs": [
    {
     "name": "stdout",
     "output_type": "stream",
     "text": [
      "There are 1867 Martian Days in the Scraped Dataset.\n"
     ]
    }
   ],
   "source": [
    "# Return the length of the Mars Weather DataFrame\n",
    "total_martian_days = len(weather_df)\n",
    "\n",
    "# Log the Number of Martian Days\n",
    "print(f\"There are {total_martian_days} Martian Days in the Scraped Dataset.\")"
   ]
  },
  {
   "cell_type": "markdown",
   "id": "022c506c",
   "metadata": {},
   "source": [
    "### Q3: What are the Coldest and the Warmest Months on Mars (at the Location of Curiosity)?"
   ]
  },
  {
   "cell_type": "code",
   "execution_count": 12,
   "id": "29ed81c0",
   "metadata": {},
   "outputs": [],
   "source": [
    "# Function to draw bar plot when using Panda Series (min_temp grouped by month)\n",
    "def mars_temp_bar_plot (temp_series) : \n",
    "\n",
    "    # Using the Matplotlib library (plt), generate a bar plot\n",
    "    plt_bar = plt.bar(temp_series.index.astype(str),\n",
    "                       temp_series.values,\n",
    "                       color = \"royalblue\",\n",
    "                       width = 0.5)\n",
    "\n",
    "    # In the plot, set a new title where Font Size is 15\n",
    "    plt.title(f\"Average Daily Temperature on Mars (All Months)\", fontsize = 14)\n",
    "\n",
    "    # In the plot, set a new label for the 'x' axis where Font Size is 14\n",
    "    plt.xlabel(\"Date\", fontsize = 14)\n",
    "\n",
    "    # In the plot, set a new label for the 'y' axis where Font Size is 14\n",
    "    plt.ylabel(\"Temperature (C)\", fontsize = 14)\n",
    "\n",
    "    # In the plot, adjust font size for the 'x' ticks to 11\n",
    "    plt.xticks(fontsize = 11)\n",
    "\n",
    "    # In the plot, update the 'y' axis range as: -85 to 0\n",
    "    plt.ylim(-85, 0)\n",
    "\n",
    "    # In the plot, adjust 'y' tick Font size to 11\n",
    "    plt.yticks(fontsize = 11)\n",
    "\n",
    "\n",
    "    # Set the background color of the plot (within the axes) to Black\n",
    "    plt.gca().set_facecolor(\"black\")\n",
    "\n",
    "    # Add grid lines (faint) to the plot\n",
    "    plt.grid(alpha = 0.2)\n",
    "\n",
    "\n",
    "    # Display the Plot (Using Matplotlib)\n",
    "    plt.show()"
   ]
  },
  {
   "cell_type": "code",
   "execution_count": 13,
   "id": "5f8b294b",
   "metadata": {},
   "outputs": [
    {
     "data": {
      "text/plain": [
       "month\n",
       "1    -77.160920\n",
       "2    -79.932584\n",
       "3    -83.307292\n",
       "4    -82.747423\n",
       "5    -79.308725\n",
       "6    -75.299320\n",
       "7    -72.281690\n",
       "8    -68.382979\n",
       "9    -69.171642\n",
       "10   -71.982143\n",
       "11   -71.985507\n",
       "12   -74.451807\n",
       "Name: min_temp, dtype: float64"
      ]
     },
     "execution_count": 13,
     "metadata": {},
     "output_type": "execute_result"
    }
   ],
   "source": [
    "# Group 'Minimum Temperature' by 'Month' and calculate the mean of 'Minimum Temperature'\n",
    "avg_temp_month = weather_df.groupby([\"month\"])[\"min_temp\"].mean()\n",
    "\n",
    "# Display the Pandas Series\n",
    "avg_temp_month"
   ]
  },
  {
   "cell_type": "code",
   "execution_count": 14,
   "id": "658ea23b",
   "metadata": {},
   "outputs": [
    {
     "name": "stdout",
     "output_type": "stream",
     "text": [
      "The Coldest Month on Mars: 3\n",
      "The Hottest Month on Mars: 8\n",
      "\n"
     ]
    },
    {
     "data": {
      "image/png": "[encoded data removed]",
      "text/plain": [
       "<Figure size 640x480 with 1 Axes>"
      ]
     },
     "metadata": {},
     "output_type": "display_data"
    }
   ],
   "source": [
    "# Return the same Pandas Series, but Sorted in Ascending Order\n",
    "sorted_avg_temp_month = avg_temp_month.sort_values(ascending = True)\n",
    "\n",
    "# Get the months with the minimum and maximum average temperature \n",
    "month_temp_max = sorted_avg_temp_month.idxmax()\n",
    "month_temp_min = sorted_avg_temp_month.idxmin()\n",
    "\n",
    "# Log the months with min and max temperature\n",
    "print(f\"The Coldest Month on Mars: {month_temp_min}\")\n",
    "print(f\"The Hottest Month on Mars: {month_temp_max}\")\n",
    "\n",
    "print()\n",
    "\n",
    "# Use the defined function to generate the Bar Plot (Average Minimum Temperature)\n",
    "mars_temp_bar_plot(sorted_avg_temp_month)"
   ]
  },
  {
   "cell_type": "markdown",
   "id": "55f8be83",
   "metadata": {},
   "source": [
    "### Q4: Which Months Have the Lowest and the Highest Atmospheric Pressure on Mars? "
   ]
  },
  {
   "cell_type": "code",
   "execution_count": 15,
   "id": "b5d2b69c",
   "metadata": {},
   "outputs": [],
   "source": [
    "# Function to draw bar plot when using Panda Series (pressure grouped by month)\n",
    "def mars_pressure_bar_plot (pressure_series) : \n",
    "\n",
    "    # Using the Matplotlib library (plt), generate a bar plot\n",
    "    plt_bar = plt.bar(pressure_series.index.astype(str),\n",
    "                       pressure_series.values,\n",
    "                       color = \"tomato\",\n",
    "                       width = 0.5)\n",
    "\n",
    "    # In the plot, set a new title where Font Size is 14\n",
    "    plt.title(f\"Average Daily Atmospheric Pressure on Mars (All Months)\", fontsize = 14)\n",
    "\n",
    "    # In the plot, set a new label for the 'x' axis where Font Size is 14\n",
    "    plt.xlabel(\"Month\", fontsize = 14)\n",
    "\n",
    "    # In the plot, set a new label for the 'y' axis where Font Size is 14\n",
    "    plt.ylabel(\"Atmospheric Pressure\", fontsize = 14)\n",
    "\n",
    "    # In the plot, adjust font size for the 'x' ticks to 11\n",
    "    plt.xticks(fontsize = 11)\n",
    "\n",
    "    # In the plot, update the 'y' axis range as: 0 to 1000\n",
    "    plt.ylim(0, 1000)\n",
    "\n",
    "    # In the plot, adjust 'y' tick Font size to 11\n",
    "    plt.yticks(fontsize = 11)\n",
    "\n",
    "\n",
    "    # Set the background color of the plot (within the axes) to Black\n",
    "    plt.gca().set_facecolor(\"black\")\n",
    "\n",
    "    # Add grid lines (faint) to the plot\n",
    "    plt.grid(alpha = 0.2)\n",
    "\n",
    "\n",
    "    # Display the Plot (Using Matplotlib)\n",
    "    plt.show()"
   ]
  },
  {
   "cell_type": "code",
   "execution_count": 16,
   "id": "a5587a05",
   "metadata": {},
   "outputs": [
    {
     "data": {
      "text/plain": [
       "month\n",
       "1     862.488506\n",
       "2     889.455056\n",
       "3     877.322917\n",
       "4     806.329897\n",
       "5     748.557047\n",
       "6     745.054422\n",
       "7     795.105634\n",
       "8     873.829787\n",
       "9     913.305970\n",
       "10    887.312500\n",
       "11    857.014493\n",
       "12    842.156627\n",
       "Name: pressure, dtype: float64"
      ]
     },
     "execution_count": 16,
     "metadata": {},
     "output_type": "execute_result"
    }
   ],
   "source": [
    "# Group 'Pressure' by 'Month' and calculate the mean of 'Pressure'\n",
    "avg_pressure_month = weather_df.groupby([\"month\"])[\"pressure\"].mean()\n",
    "\n",
    "# Display the Pandas Series\n",
    "avg_pressure_month"
   ]
  },
  {
   "cell_type": "code",
   "execution_count": 17,
   "id": "6410d0f3",
   "metadata": {},
   "outputs": [
    {
     "name": "stdout",
     "output_type": "stream",
     "text": [
      "Month with Lowest Atmospheric Pressure on Mars: 6\n",
      "Month with Highest Atmospheric Pressure on Mars: 9\n",
      "\n"
     ]
    },
    {
     "data": {
      "image/png": "[encoded data removed]",
      "text/plain": [
       "<Figure size 640x480 with 1 Axes>"
      ]
     },
     "metadata": {},
     "output_type": "display_data"
    }
   ],
   "source": [
    "# Return the same Pandas Series, but Sorted in Ascending Order\n",
    "sorted_avg_pressure_month = avg_pressure_month.sort_values(ascending = True)\n",
    "\n",
    "# Get the months with the minimum and maximum average atmospheric pressure\n",
    "month_pressure_max = sorted_avg_pressure_month.idxmax()\n",
    "month_pressure_min = sorted_avg_pressure_month.idxmin()\n",
    "\n",
    "# Log the months with min and max atmospheric pressure\n",
    "print(f\"Month with Lowest Atmospheric Pressure on Mars: {month_pressure_min}\")\n",
    "print(f\"Month with Highest Atmospheric Pressure on Mars: {month_pressure_max}\")\n",
    "\n",
    "print()\n",
    "\n",
    "# Use the defined function to generate the Bar Plot (Average Pressure)\n",
    "mars_pressure_bar_plot(sorted_avg_pressure_month)"
   ]
  },
  {
   "cell_type": "markdown",
   "id": "4ed3e247",
   "metadata": {},
   "source": [
    "### Q5: About How Many Terrestrial (Earth) Days Exist in a Martian Year?"
   ]
  },
  {
   "cell_type": "code",
   "execution_count": 18,
   "id": "c34263d2",
   "metadata": {},
   "outputs": [],
   "source": [
    "# Function to draw bar plot when using Panda Series (sol and min_temp columns)\n",
    "def mars_sol_temp_plot (sol_temp_df) : \n",
    "\n",
    "    # Using the Matplotlib library (plt), generate a plot\n",
    "    plt_plot = plt.plot(sol_temp_df[\"sol\"],\n",
    "                       sol_temp_df[\"min_temp\"],\n",
    "                       color = \"gold\")\n",
    "\n",
    "    # In the plot, set a new title where Font Size is 14\n",
    "    plt.title(f\"Daily Minimum Temperature on Mars\", fontsize = 14)\n",
    "\n",
    "    # In the plot, set a new label for the 'x' axis where Font Size is 14\n",
    "    plt.xlabel(\"No. Terrestrial (Earth) Days\", fontsize = 14)\n",
    "\n",
    "    # In the plot, set a new label for the 'y' axis where Font Size is 14\n",
    "    plt.ylabel(\"Temperature (C)\", fontsize = 14)\n",
    "\n",
    "    # In the plot, adjust font size for the 'x' ticks to 11\n",
    "    plt.xticks(fontsize = 11)\n",
    "\n",
    "    # In the plot, update the 'y' axis range as: -90 to -60\n",
    "    #plt.ylim(-90, -60)\n",
    "\n",
    "    # In the plot, adjust 'y' tick Font size to 11\n",
    "    plt.yticks(fontsize = 11)\n",
    "\n",
    "\n",
    "    # Set the background color of the plot (within the axes) to Black\n",
    "    plt.gca().set_facecolor(\"black\")\n",
    "\n",
    "    # Add grid lines (faint) to the plot\n",
    "    plt.grid(alpha = 0.2)\n",
    "\n",
    "\n",
    "    # Display the Plot (Using Matplotlib)\n",
    "    plt.show()"
   ]
  },
  {
   "cell_type": "code",
   "execution_count": 19,
   "id": "039fd282",
   "metadata": {},
   "outputs": [
    {
     "name": "stdout",
     "output_type": "stream",
     "text": [
      "According to JPL NASA, one year in Mars is equivalent to 687 terrestrial (Earth) days.\n",
      "Source: https://www.jpl.nasa.gov/edu/learn/video/mars-in-a-minute-how-long-is-a-year-on-mars/\n",
      "\n",
      "The trend in the plot implies as Mars gets closer to the Sun during its orbital cycle, the temperature increases.\n",
      "Going by the plot, the distance from peak-to-peak is roughly 700 days (1500 - 800).\n",
      "\n"
     ]
    },
    {
     "data": {
      "image/png": "[encoded data removed]",
      "text/plain": [
       "<Figure size 640x480 with 1 Axes>"
      ]
     },
     "metadata": {},
     "output_type": "display_data"
    }
   ],
   "source": [
    "# Log my findings from the internet per the analysis question\n",
    "print(f\"According to JPL NASA, one year in Mars is equivalent to 687 terrestrial (Earth) days.\")\n",
    "print(f\"Source: https://www.jpl.nasa.gov/edu/learn/video/mars-in-a-minute-how-long-is-a-year-on-mars/\")\n",
    "\n",
    "print()\n",
    "\n",
    "# Log my observations of the generated plot\n",
    "print(f\"The trend in the plot implies as Mars gets closer to the Sun during its orbital cycle, the temperature increases.\")\n",
    "print(f\"Going by the plot, the distance from peak-to-peak is roughly 700 days (1500 - 800).\")\n",
    "\n",
    "print()\n",
    "\n",
    "# Use the defined function to generate the Plot (Daily Minimum Temperature)\n",
    "mars_sol_temp_plot(weather_df)"
   ]
  },
  {
   "cell_type": "markdown",
   "id": "6a611416",
   "metadata": {},
   "source": [
    "## Step #6 - Export Mars Weather DataFrame (`weather_df`) to CSV\n",
    "---"
   ]
  },
  {
   "cell_type": "code",
   "execution_count": 20,
   "id": "6da363e3",
   "metadata": {},
   "outputs": [
    {
     "name": "stdout",
     "output_type": "stream",
     "text": [
      "******Mars Weather Data Saved to CSV File (Data/mars_weather.csv)******\n"
     ]
    }
   ],
   "source": [
    "# Using the Pandas Module, import the Mars Weather DataFrame to a CSV file\n",
    "weather_df.to_csv(r'Data/mars_weather.csv', index = False)\n",
    "\n",
    "# Inform user the CSV file is created and stored\n",
    "print(\"******Mars Weather Data Saved to CSV File (Data/mars_weather.csv)******\")"
   ]
  },
  {
   "cell_type": "markdown",
   "id": "4d6f668a",
   "metadata": {},
   "source": [
    "### Terminate Browsing Session"
   ]
  },
  {
   "cell_type": "code",
   "execution_count": 21,
   "id": "eba0fde4",
   "metadata": {},
   "outputs": [],
   "source": [
    "browser.quit()"
   ]
  }
 ],
 "metadata": {
  "kernelspec": {
   "display_name": "Python 3 (ipykernel)",
   "language": "python",
   "name": "python3"
  },
  "language_info": {
   "codemirror_mode": {
    "name": "ipython",
    "version": 3
   },
   "file_extension": ".py",
   "mimetype": "text/x-python",
   "name": "python",
   "nbconvert_exporter": "python",
   "pygments_lexer": "ipython3",
   "version": "3.10.13"
  }
 },
 "nbformat": 4,
 "nbformat_minor": 5
}
